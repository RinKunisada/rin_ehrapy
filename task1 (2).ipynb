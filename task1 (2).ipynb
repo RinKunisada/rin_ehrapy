{
 "cells": [
  {
   "cell_type": "code",
   "execution_count": 38,
   "id": "178f72a1-36c0-4f4b-b1b8-74aea4745d54",
   "metadata": {},
   "outputs": [],
   "source": [
    "import ehrapy as ep\n",
    "import pandas as pd\n",
    "import numpy as np\n",
    "import anndata as ad\n",
    "import scanpy as sc\n",
    "import seaborn as sns\n",
    "import matplotlib.pyplot as plt"
   ]
  },
  {
   "cell_type": "code",
   "execution_count": 39,
   "id": "4b13f8a1-4967-4d78-adfe-3be2bcd1992e",
   "metadata": {},
   "outputs": [],
   "source": [
    "df = pd.read_csv(\"data_task1.csv\")"
   ]
  },
  {
   "cell_type": "code",
   "execution_count": 40,
   "id": "f3ab310f-1fa4-4cdf-bb18-5182a00dd3e4",
   "metadata": {},
   "outputs": [],
   "source": [
    "ordinal_columns = [\n",
    "    \"pT_status\", \"pN_status\", \"G_status\", \"L_status\", \"V_status\", \"Pn_status\", \"R_status\", \"M_status_postop\"\n",
    "]\n",
    "nominal_columns = [\n",
    "    \"Status_OS\", \"PFS_sum\", \"Status_PFS\", \"sex\", \"Weight_loss_>10%_6months_before_OP\", \"DM\",\n",
    "    \"Long_term_steroid_medication\",\"C2_abusus\", \"CEA (ng/ml)\",\"Localisation\", \"Abdominal pain\", \n",
    "    \"icterus\", \"new_onset_DM\", \"Episode_acute_pancreatitis\", \"Episode_chronic_pancreatitis\", \n",
    "    \"OP_technique\", \"Vessel_resection\", \"Resection_liver_met_intraop\", \"histology\",\n",
    "    \"Clavien-Dindo\",  \"ICD-10 Diagnosis\",\n",
    "]   \n",
    "numerical_columns = [\n",
    "    \"ID_scRNAseq\", \"NIssc\", \"OS\", \"PFS\", \"Liver_met_sum\", \"Lung_met_sum\", \"other_met_sum\", \"local_rec_sum\", \n",
    "    \"age_at_diagnosis\", \"Size_cm\", \"Weight_kg\", \"BMI\", \"ASA\", \"Serumalbumin (g/dl)\", \"Serum-CRP (mg/l)\", \n",
    "    \"Leucocytes (n*1000/?l)\", \"Hb (g/dl)\", \"Creatinine (mg/dl)\", \"Smoker_py\", \"Bilirubin (mg/dl)\", \n",
    "    \"Gamma-GT\", \"AP (U/l)\", \"Amylase (U/l)\", \"Lipase (U/l)\",\"CA 19-9 (U/ml)\",  \n",
    "    \"Number_resected_lymphnodes\",\"Number_tumor_infiltrated_lymphnodes\", \"Ratio_tumorLN/resectedLN\", \"Tumorsize_mm\"   \n",
    "]"
   ]
  },
  {
   "cell_type": "code",
   "execution_count": 41,
   "id": "853da6f7-9bca-447f-8922-6d8a1ef515ce",
   "metadata": {},
   "outputs": [
    {
     "name": "stdout",
     "output_type": "stream",
     "text": [
      "Ordinal columns converted to categorical.\n"
     ]
    }
   ],
   "source": [
    "df[ordinal_columns] = df[ordinal_columns].astype(\"category\")\n",
    "print(\"Ordinal columns converted to categorical.\")"
   ]
  },
  {
   "cell_type": "code",
   "execution_count": 42,
   "id": "0fc9f462-e631-42cf-8b1e-f7cbf8994e8c",
   "metadata": {},
   "outputs": [
    {
     "name": "stdout",
     "output_type": "stream",
     "text": [
      "Nominal columns one-hot encoded.\n"
     ]
    }
   ],
   "source": [
    "df_nominal = pd.get_dummies(df[nominal_columns], drop_first=True)\n",
    "print(\"Nominal columns one-hot encoded.\") "
   ]
  },
  {
   "cell_type": "code",
   "execution_count": 43,
   "id": "337834c2-f94f-4585-8cfa-ee960397781d",
   "metadata": {},
   "outputs": [],
   "source": [
    "df_numerical = df[numerical_columns].values"
   ]
  },
  {
   "cell_type": "code",
   "execution_count": 44,
   "id": "9e3de001-1145-4150-8186-b3577a864403",
   "metadata": {},
   "outputs": [],
   "source": [
    "obs_data = pd.concat([df[ordinal_columns], df_nominal], axis=1)"
   ]
  },
  {
   "cell_type": "code",
   "execution_count": 45,
   "id": "134f7c7d-b501-4bcb-bea1-26bcea66b317",
   "metadata": {},
   "outputs": [],
   "source": [
    "X_data = df_numerical"
   ]
  },
  {
   "cell_type": "code",
   "execution_count": 46,
   "id": "2fbb3df6-d1f5-4ed6-8218-a43bb2fab42e",
   "metadata": {},
   "outputs": [
    {
     "name": "stdout",
     "output_type": "stream",
     "text": [
      "AnnData object created successfully.\n"
     ]
    }
   ],
   "source": [
    "adata = ad.AnnData(X=X_data, obs=obs_data)\n",
    "\n",
    "print(\"AnnData object created successfully.\")"
   ]
  },
  {
   "cell_type": "code",
   "execution_count": 47,
   "id": "afcf08de-2b89-4c77-9425-58af1d523a70",
   "metadata": {},
   "outputs": [
    {
     "name": "stdout",
     "output_type": "stream",
     "text": [
      "AnnData object saved as 'processed.h5ad'.\n"
     ]
    }
   ],
   "source": [
    "adata.write(\"processed.h5ad\")\n",
    "print(\"AnnData object saved as 'processed.h5ad'.\")"
   ]
  },
  {
   "cell_type": "code",
   "execution_count": 48,
   "id": "c5290870-a1da-4c34-9d2b-066ac6be1ec3",
   "metadata": {},
   "outputs": [
    {
     "name": "stdout",
     "output_type": "stream",
     "text": [
      "AnnData object loaded.\n"
     ]
    }
   ],
   "source": [
    "adata_loaded = ad.read(\"processed.h5ad\")\n",
    "print(\"AnnData object loaded.\")"
   ]
  },
  {
   "cell_type": "code",
   "execution_count": 59,
   "id": "031f471d-99d9-4aec-a0ec-d40c0ed754ef",
   "metadata": {},
   "outputs": [
    {
     "data": {
      "text/plain": [
       "[Text(0.5, 1.0, 'pct of missing values: var')]"
      ]
     },
     "execution_count": 59,
     "metadata": {},
     "output_type": "execute_result"
    },
    {
     "data": {
      "image/png": "[encoded data removed]",
      "text/plain": [
       "<Figure size 800x400 with 2 Axes>"
      ]
     },
     "metadata": {},
     "output_type": "display_data"
    }
   ],
   "source": [
    "axd = plt.figure(constrained_layout=True, figsize=(8, 4), dpi=100).subplot_mosaic(\n",
    "    \"\"\"\n",
    "    AB\n",
    "    \"\"\"\n",
    ")\n",
    "\n",
    "sns.histplot(\n",
    "    adata.obs[\"missing_values_pct\"], ax=axd[\"A\"], bins=30, color=\"#54C285\"\n",
    ").set(title=\"pct of missing values: obs\")\n",
    "sns.histplot(\n",
    "    adata.var[\"missing_values_pct\"], ax=axd[\"B\"], bins=30, color=\"#1FA6C9\"\n",
    ").set(title=\"pct of missing values: var\")"
   ]
  },
  {
   "cell_type": "code",
   "execution_count": 61,
   "id": "da37e4db-b4a9-4275-85e8-a987096714d0",
   "metadata": {},
   "outputs": [
    {
     "data": {
      "text/html": [
       "<div>\n",
       "<style scoped>\n",
       "    .dataframe tbody tr th:only-of-type {\n",
       "        vertical-align: middle;\n",
       "    }\n",
       "\n",
       "    .dataframe tbody tr th {\n",
       "        vertical-align: top;\n",
       "    }\n",
       "\n",
       "    .dataframe thead th {\n",
       "        text-align: right;\n",
       "    }\n",
       "</style>\n",
       "<table border=\"1\" class=\"dataframe\">\n",
       "  <thead>\n",
       "    <tr style=\"text-align: right;\">\n",
       "      <th></th>\n",
       "      <th>missing_values_abs</th>\n",
       "      <th>missing_values_pct</th>\n",
       "      <th>mean</th>\n",
       "      <th>median</th>\n",
       "      <th>standard_deviation</th>\n",
       "      <th>min</th>\n",
       "      <th>max</th>\n",
       "      <th>iqr_outliers</th>\n",
       "      <th>feature_type</th>\n",
       "    </tr>\n",
       "  </thead>\n",
       "  <tbody>\n",
       "    <tr>\n",
       "      <th>22</th>\n",
       "      <td>21</td>\n",
       "      <td>91.304348</td>\n",
       "      <td>29.0</td>\n",
       "      <td>29.0</td>\n",
       "      <td>0.0</td>\n",
       "      <td>29.0</td>\n",
       "      <td>29.0</td>\n",
       "      <td>False</td>\n",
       "      <td>numeric</td>\n",
       "    </tr>\n",
       "  </tbody>\n",
       "</table>\n",
       "</div>"
      ],
      "text/plain": [
       "    missing_values_abs  missing_values_pct  mean  median  standard_deviation  \\\n",
       "22                  21           91.304348  29.0    29.0                 0.0   \n",
       "\n",
       "     min   max  iqr_outliers feature_type  \n",
       "22  29.0  29.0         False      numeric  "
      ]
     },
     "execution_count": 61,
     "metadata": {},
     "output_type": "execute_result"
    }
   ],
   "source": [
    "adata.var.loc[\n",
    "    adata.var[\"missing_values_pct\"] == adata.var[\"missing_values_pct\"].max(), :\n",
    "]"
   ]
  },
  {
   "cell_type": "code",
   "execution_count": 62,
   "id": "4775616d-ff78-4b25-8574-ce7fa5d5cfc0",
   "metadata": {},
   "outputs": [],
   "source": [
    "df = adata.to_df()"
   ]
  },
  {
   "cell_type": "code",
   "execution_count": 63,
   "id": "0e723b29-691a-44c3-b64a-5184ac1e514e",
   "metadata": {},
   "outputs": [],
   "source": [
    "missing_percentage = df.isnull().mean() * 100"
   ]
  },
  {
   "cell_type": "code",
   "execution_count": 64,
   "id": "9b2c2c5c-ec9a-471c-8ff7-10ead799e64e",
   "metadata": {},
   "outputs": [],
   "source": [
    "threshold = 30"
   ]
  },
  {
   "cell_type": "code",
   "execution_count": 65,
   "id": "14d6d83a-0f69-45a1-a57f-39b29d0edd79",
   "metadata": {},
   "outputs": [
    {
     "name": "stdout",
     "output_type": "stream",
     "text": [
      "Features to drop (more than 30% missing values): ['2', '3', '4', '5', '6', '7', '13', '14', '18', '22', '23', '24']\n"
     ]
    }
   ],
   "source": [
    "features_to_drop = missing_percentage[missing_percentage > threshold].index.tolist()\n",
    "\n",
    "print(f\"Features to drop (more than {threshold}% missing values): {features_to_drop}\")"
   ]
  },
  {
   "cell_type": "code",
   "execution_count": 66,
   "id": "97a5f8b5-d717-47f5-b8c6-7e9bd237e3c7",
   "metadata": {},
   "outputs": [],
   "source": [
    "adata = adata[:, ~adata.var_names.isin(features_to_drop)].copy()"
   ]
  },
  {
   "cell_type": "code",
   "execution_count": 67,
   "id": "83997b76-7b82-4673-b8bf-91f6a99f5bc5",
   "metadata": {},
   "outputs": [
    {
     "name": "stdout",
     "output_type": "stream",
     "text": [
      "Remaining features: ['0', '1', '8', '9', '10', '11', '12', '15', '16', '17', '19', '20', '21', '25', '26', '27', '28']\n"
     ]
    }
   ],
   "source": [
    "print(f\"Remaining features: {adata.var_names.tolist()}\")"
   ]
  },
  {
   "cell_type": "code",
   "execution_count": 68,
   "id": "39296b37-7c1d-42c3-ae7a-f1bd315ccea1",
   "metadata": {},
   "outputs": [
    {
     "data": {
      "application/vnd.jupyter.widget-view+json": {
       "model_id": "43329eb1b28c4c689045d0e9f8f38cfe",
       "version_major": 2,
       "version_minor": 0
      },
      "text/plain": [
       "Output()"
      ]
     },
     "metadata": {},
     "output_type": "display_data"
    },
    {
     "data": {
      "text/html": [
       "<pre style=\"white-space:pre;overflow-x:auto;line-height:normal;font-family:Menlo,'DejaVu Sans Mono',consolas,'Courier New',monospace\"></pre>\n"
      ],
      "text/plain": []
     },
     "metadata": {},
     "output_type": "display_data"
    }
   ],
   "source": [
    "ep.pp.knn_impute(adata, n_neighbours=5)"
   ]
  },
  {
   "cell_type": "code",
   "execution_count": 69,
   "id": "cb1800a0-7193-4827-b795-ca5818be1d38",
   "metadata": {},
   "outputs": [
    {
     "data": {
      "text/plain": [
       "(    missing_values_abs  missing_values_pct\n",
       " 0                    0                 0.0\n",
       " 1                    0                 0.0\n",
       " 2                    0                 0.0\n",
       " 3                    0                 0.0\n",
       " 4                    0                 0.0\n",
       " 5                    0                 0.0\n",
       " 6                    0                 0.0\n",
       " 7                    0                 0.0\n",
       " 8                    0                 0.0\n",
       " 9                    0                 0.0\n",
       " 10                   0                 0.0\n",
       " 11                   0                 0.0\n",
       " 12                   0                 0.0\n",
       " 13                   0                 0.0\n",
       " 14                   0                 0.0\n",
       " 15                   0                 0.0\n",
       " 16                   0                 0.0\n",
       " 17                   0                 0.0\n",
       " 18                   0                 0.0\n",
       " 19                   0                 0.0\n",
       " 20                   0                 0.0\n",
       " 21                   0                 0.0\n",
       " 22                   0                 0.0,\n",
       "     missing_values_abs  missing_values_pct        mean      median  \\\n",
       " 0                    0                 0.0  463.283884  440.799988   \n",
       " 1                    0                 0.0    9.153453   10.200000   \n",
       " 8                    0                 0.0   67.721227   68.588234   \n",
       " 9                    0                 0.0  173.051629  172.399994   \n",
       " 10                   0                 0.0   75.824999   76.000000   \n",
       " 11                   0                 0.0   25.252794   24.766251   \n",
       " 12                   0                 0.0    2.618478    2.600000   \n",
       " 15                   0                 0.0    7.397442    7.391177   \n",
       " 16                   0                 0.0   12.789258   12.500000   \n",
       " 17                   0                 0.0    0.764194    0.720000   \n",
       " 19                   0                 0.0    6.101535    7.000000   \n",
       " 20                   0                 0.0  413.491048  367.399994   \n",
       " 21                   0                 0.0  203.949457  177.800003   \n",
       " 25                   0                 0.0   41.092072   36.000000   \n",
       " 26                   0                 0.0    4.132992    4.058824   \n",
       " 27                   0                 0.0    0.106246    0.100000   \n",
       " 28                   0                 0.0   31.575448   28.000000   \n",
       " \n",
       "     standard_deviation         min          max  iqr_outliers  \n",
       " 0           209.471798   91.000000   772.000000         False  \n",
       " 1             3.947172    1.333333    18.666666          True  \n",
       " 8            11.206284   41.000000    86.000000          True  \n",
       " 9             5.852439  162.000000   184.000000         False  \n",
       " 10           12.560975   45.000000   105.000000          True  \n",
       " 11            3.544849   16.900000    32.209999          True  \n",
       " 12            0.403936    2.000000     3.000000         False  \n",
       " 15            1.784024    3.900000    11.200000          True  \n",
       " 16            1.704206    8.700000    16.000000         False  \n",
       " 17            0.270512    0.400000     1.500000          True  \n",
       " 19            6.359269    0.100000    29.200001          True  \n",
       " 20          428.221498   21.000000  1396.000000          True  \n",
       " 21          176.921168   42.000000   919.000000          True  \n",
       " 25           17.877054   18.000000    99.000000          True  \n",
       " 26            2.745721    0.000000    12.000000          True  \n",
       " 27            0.064184    0.000000     0.300000          True  \n",
       " 28           12.288525   15.000000    70.000000          True  )"
      ]
     },
     "execution_count": 69,
     "metadata": {},
     "output_type": "execute_result"
    }
   ],
   "source": [
    "ep.pp.qc_metrics(adata)"
   ]
  },
  {
   "cell_type": "code",
   "execution_count": 70,
   "id": "3ae7e8ae-ce05-4f52-9328-b59aed8708d6",
   "metadata": {},
   "outputs": [
    {
     "data": {
      "text/plain": [
       "[Text(0.5, 1.0, 'pct of missing values: var'), (0.0, 30.0)]"
      ]
     },
     "execution_count": 70,
     "metadata": {},
     "output_type": "execute_result"
    },
    {
     "data": {
      "image/png": "[encoded data removed]",
      "text/plain": [
       "<Figure size 800x300 with 2 Axes>"
      ]
     },
     "metadata": {},
     "output_type": "display_data"
    }
   ],
   "source": [
    "axd = plt.figure(constrained_layout=True, figsize=(8, 3), dpi=100).subplot_mosaic(\n",
    "    \"\"\"\n",
    "    AB\n",
    "    \"\"\"\n",
    ")\n",
    "\n",
    "sns.histplot(adata.obs[\"missing_values_pct\"], ax=axd[\"A\"], bins=5, color=\"#54C285\").set(\n",
    "    title=\"pct of missing values: obs\", xlim=(0, 30)\n",
    ")\n",
    "sns.histplot(adata.var[\"missing_values_pct\"], ax=axd[\"B\"], bins=5, color=\"#1FA6C9\").set(\n",
    "    title=\"pct of missing values: var\", xlim=(0, 30)\n",
    ")"
   ]
  },
  {
   "cell_type": "code",
   "execution_count": 71,
   "id": "8fe50d71-f9fb-4fe9-957a-d337ba53bc33",
   "metadata": {},
   "outputs": [
    {
     "data": {
      "text/plain": [
       "[Text(0.5, 1.0, 'maximum values')]"
      ]
     },
     "execution_count": 71,
     "metadata": {},
     "output_type": "execute_result"
    },
    {
     "data": {
      "image/png": "[encoded data removed]",
      "text/plain": [
       "<Figure size 800x300 with 2 Axes>"
      ]
     },
     "metadata": {},
     "output_type": "display_data"
    }
   ],
   "source": [
    "axd = plt.figure(constrained_layout=True, figsize=(8, 3), dpi=100).subplot_mosaic(\n",
    "    \"\"\"\n",
    "    AB\n",
    "    \"\"\"\n",
    ")\n",
    "\n",
    "sns.histplot(adata.var[\"min\"], ax=axd[\"A\"], bins=30, color=\"#54C285\").set(\n",
    "    title=\"minimum values\"\n",
    ")\n",
    "sns.histplot(adata.var[\"max\"], ax=axd[\"B\"], bins=30, color=\"#1FA6C9\").set(\n",
    "    title=\"maximum values\"\n",
    ")"
   ]
  },
  {
   "cell_type": "code",
   "execution_count": 72,
   "id": "e459c4cc-c364-4ae8-9f18-fdc9c2aa28c6",
   "metadata": {},
   "outputs": [],
   "source": [
    "adata.var[\"coefficient.variation\"] = (\n",
    "    adata.var[\"standard_deviation\"] / adata.var[\"mean\"]\n",
    ") * 100"
   ]
  },
  {
   "cell_type": "code",
   "execution_count": 73,
   "id": "ca48d3ae-ade5-4904-9730-cdeec39ba99f",
   "metadata": {},
   "outputs": [
    {
     "data": {
      "text/html": [
       "<div>\n",
       "<style scoped>\n",
       "    .dataframe tbody tr th:only-of-type {\n",
       "        vertical-align: middle;\n",
       "    }\n",
       "\n",
       "    .dataframe tbody tr th {\n",
       "        vertical-align: top;\n",
       "    }\n",
       "\n",
       "    .dataframe thead th {\n",
       "        text-align: right;\n",
       "    }\n",
       "</style>\n",
       "<table border=\"1\" class=\"dataframe\">\n",
       "  <thead>\n",
       "    <tr style=\"text-align: right;\">\n",
       "      <th></th>\n",
       "      <th>missing_values_abs</th>\n",
       "      <th>missing_values_pct</th>\n",
       "      <th>mean</th>\n",
       "      <th>median</th>\n",
       "      <th>standard_deviation</th>\n",
       "      <th>min</th>\n",
       "      <th>max</th>\n",
       "      <th>iqr_outliers</th>\n",
       "      <th>feature_type</th>\n",
       "      <th>coefficient.variation</th>\n",
       "    </tr>\n",
       "  </thead>\n",
       "  <tbody>\n",
       "    <tr>\n",
       "      <th>20</th>\n",
       "      <td>0</td>\n",
       "      <td>0.0</td>\n",
       "      <td>413.491048</td>\n",
       "      <td>367.399994</td>\n",
       "      <td>428.221498</td>\n",
       "      <td>21.0</td>\n",
       "      <td>1396.0</td>\n",
       "      <td>True</td>\n",
       "      <td>numeric</td>\n",
       "      <td>103.562459</td>\n",
       "    </tr>\n",
       "    <tr>\n",
       "      <th>21</th>\n",
       "      <td>0</td>\n",
       "      <td>0.0</td>\n",
       "      <td>203.949457</td>\n",
       "      <td>177.800003</td>\n",
       "      <td>176.921168</td>\n",
       "      <td>42.0</td>\n",
       "      <td>919.0</td>\n",
       "      <td>True</td>\n",
       "      <td>numeric</td>\n",
       "      <td>86.747555</td>\n",
       "    </tr>\n",
       "  </tbody>\n",
       "</table>\n",
       "</div>"
      ],
      "text/plain": [
       "    missing_values_abs  missing_values_pct        mean      median  \\\n",
       "20                   0                 0.0  413.491048  367.399994   \n",
       "21                   0                 0.0  203.949457  177.800003   \n",
       "\n",
       "    standard_deviation   min     max  iqr_outliers feature_type  \\\n",
       "20          428.221498  21.0  1396.0          True      numeric   \n",
       "21          176.921168  42.0   919.0          True      numeric   \n",
       "\n",
       "    coefficient.variation  \n",
       "20             103.562459  \n",
       "21              86.747555  "
      ]
     },
     "execution_count": 73,
     "metadata": {},
     "output_type": "execute_result"
    }
   ],
   "source": [
    "adata.var.loc[(adata.var[\"coefficient.variation\"] > 50) & (adata.var[\"mean\"] > 50),]"
   ]
  },
  {
   "cell_type": "code",
   "execution_count": 74,
   "id": "07d0d984-13f7-42ed-a839-ec09119df8e0",
   "metadata": {},
   "outputs": [
    {
     "data": {
      "text/plain": [
       "AnnData object with n_obs × n_vars = 23 × 17\n",
       "    obs: 'pT_status', 'pN_status', 'G_status', 'L_status', 'V_status', 'Pn_status', 'R_status', 'M_status_postop', 'Status_OS_dead', 'PFS_sum_03.07.2023', 'PFS_sum_12.02.2018', 'PFS_sum_13.06.2022', 'PFS_sum_18.10.2022', 'PFS_sum_21.05.2021', 'PFS_sum_24.05.2021', 'PFS_sum_24.05.2023', 'PFS_sum_28.04.2023', 'PFS_sum_29.08.2023', 'PFS_sum_30.07.2018', 'PFS_sum_Data still not available (OP< 6 months)', 'PFS_sum_Periop. Tod', 'Status_PFS_recurrence', 'sex_male', 'Weight_loss_>10%_6months_before_OP_Yes', 'DM_Yes', 'DM_yes', 'Long_term_steroid_medication_Yes', 'CEA (ng/ml)_1.95', 'CEA (ng/ml)_10.53', 'CEA (ng/ml)_2.2', 'CEA (ng/ml)_2.8', 'CEA (ng/ml)_5', 'CEA (ng/ml)_6.45', 'CEA (ng/ml)_8.27', 'CEA (ng/ml)_<1,80', 'Localisation_Cauda', 'Localisation_Corpus', 'Abdominal pain_No', 'icterus_No', 'new_onset_DM_No', 'OP_technique_Traverso-Longmire OP', 'OP_technique_total pancreatectomy', 'Resection_liver_met_intraop_No', 'Clavien-Dindo_grade 1', 'Clavien-Dindo_grade 2', 'Clavien-Dindo_grade 3a', 'Clavien-Dindo_grade 5 (Tod)', 'missing_values_abs', 'missing_values_pct'\n",
       "    var: 'missing_values_abs', 'missing_values_pct', 'mean', 'median', 'standard_deviation', 'min', 'max', 'iqr_outliers', 'feature_type', 'coefficient.variation'\n",
       "    uns: 'normalization'\n",
       "    layers: 'raw_norm'"
      ]
     },
     "execution_count": 74,
     "metadata": {},
     "output_type": "execute_result"
    }
   ],
   "source": [
    "ep.pp.log_norm(adata, vars=[\"20\", \"21\"], offset=1)"
   ]
  },
  {
   "cell_type": "code",
   "execution_count": 75,
   "id": "f1d36741-1562-467c-a09f-61f2e5d884ee",
   "metadata": {},
   "outputs": [
    {
     "data": {
      "text/plain": [
       "(    missing_values_abs  missing_values_pct\n",
       " 0                    0                 0.0\n",
       " 1                    0                 0.0\n",
       " 2                    0                 0.0\n",
       " 3                    0                 0.0\n",
       " 4                    0                 0.0\n",
       " 5                    0                 0.0\n",
       " 6                    0                 0.0\n",
       " 7                    0                 0.0\n",
       " 8                    0                 0.0\n",
       " 9                    0                 0.0\n",
       " 10                   0                 0.0\n",
       " 11                   0                 0.0\n",
       " 12                   0                 0.0\n",
       " 13                   0                 0.0\n",
       " 14                   0                 0.0\n",
       " 15                   0                 0.0\n",
       " 16                   0                 0.0\n",
       " 17                   0                 0.0\n",
       " 18                   0                 0.0\n",
       " 19                   0                 0.0\n",
       " 20                   0                 0.0\n",
       " 21                   0                 0.0\n",
       " 22                   0                 0.0,\n",
       "     missing_values_abs  missing_values_pct        mean      median  \\\n",
       " 0                    0                 0.0  463.283884  440.799988   \n",
       " 1                    0                 0.0    9.153453   10.200000   \n",
       " 8                    0                 0.0   67.721227   68.588234   \n",
       " 9                    0                 0.0  173.051629  172.399994   \n",
       " 10                   0                 0.0   75.824999   76.000000   \n",
       " 11                   0                 0.0   25.252794   24.766251   \n",
       " 12                   0                 0.0    2.618478    2.600000   \n",
       " 15                   0                 0.0    7.397442    7.391177   \n",
       " 16                   0                 0.0   12.789258   12.500000   \n",
       " 17                   0                 0.0    0.764194    0.720000   \n",
       " 19                   0                 0.0    6.101535    7.000000   \n",
       " 20                   0                 0.0    5.331053    5.909169   \n",
       " 21                   0                 0.0    5.077228    5.186268   \n",
       " 25                   0                 0.0   41.092072   36.000000   \n",
       " 26                   0                 0.0    4.132992    4.058824   \n",
       " 27                   0                 0.0    0.106246    0.100000   \n",
       " 28                   0                 0.0   31.575448   28.000000   \n",
       " \n",
       "     standard_deviation         min         max  iqr_outliers  \n",
       " 0           209.471798   91.000000  772.000000         False  \n",
       " 1             3.947172    1.333333   18.666666          True  \n",
       " 8            11.206284   41.000000   86.000000          True  \n",
       " 9             5.852439  162.000000  184.000000         False  \n",
       " 10           12.560975   45.000000  105.000000          True  \n",
       " 11            3.544849   16.900000   32.209999          True  \n",
       " 12            0.403936    2.000000    3.000000         False  \n",
       " 15            1.784024    3.900000   11.200000          True  \n",
       " 16            1.704206    8.700000   16.000000         False  \n",
       " 17            0.270512    0.400000    1.500000          True  \n",
       " 19            6.359269    0.100000   29.200001          True  \n",
       " 20            1.326092    3.091043    7.242083         False  \n",
       " 21            0.676633    3.761200    6.824374          True  \n",
       " 25           17.877054   18.000000   99.000000          True  \n",
       " 26            2.745721    0.000000   12.000000          True  \n",
       " 27            0.064184    0.000000    0.300000          True  \n",
       " 28           12.288525   15.000000   70.000000          True  )"
      ]
     },
     "execution_count": 75,
     "metadata": {},
     "output_type": "execute_result"
    }
   ],
   "source": [
    "ep.pp.qc_metrics(adata)"
   ]
  },
  {
   "cell_type": "code",
   "execution_count": 76,
   "id": "1f563bfe-42de-4331-8510-229cd00cc19f",
   "metadata": {},
   "outputs": [
    {
     "data": {
      "text/html": [
       "<div>\n",
       "<style scoped>\n",
       "    .dataframe tbody tr th:only-of-type {\n",
       "        vertical-align: middle;\n",
       "    }\n",
       "\n",
       "    .dataframe tbody tr th {\n",
       "        vertical-align: top;\n",
       "    }\n",
       "\n",
       "    .dataframe thead th {\n",
       "        text-align: right;\n",
       "    }\n",
       "</style>\n",
       "<table border=\"1\" class=\"dataframe\">\n",
       "  <thead>\n",
       "    <tr style=\"text-align: right;\">\n",
       "      <th></th>\n",
       "      <th>missing_values_abs</th>\n",
       "      <th>missing_values_pct</th>\n",
       "      <th>mean</th>\n",
       "      <th>median</th>\n",
       "      <th>standard_deviation</th>\n",
       "      <th>min</th>\n",
       "      <th>max</th>\n",
       "      <th>iqr_outliers</th>\n",
       "      <th>feature_type</th>\n",
       "      <th>coefficient.variation</th>\n",
       "    </tr>\n",
       "  </thead>\n",
       "  <tbody>\n",
       "  </tbody>\n",
       "</table>\n",
       "</div>"
      ],
      "text/plain": [
       "Empty DataFrame\n",
       "Columns: [missing_values_abs, missing_values_pct, mean, median, standard_deviation, min, max, iqr_outliers, feature_type, coefficient.variation]\n",
       "Index: []"
      ]
     },
     "execution_count": 76,
     "metadata": {},
     "output_type": "execute_result"
    }
   ],
   "source": [
    "adata.var[\"coefficient.variation\"] = (\n",
    "    adata.var[\"standard_deviation\"] / adata.var[\"mean\"]\n",
    ") * 100\n",
    "adata.var.loc[(adata.var[\"coefficient.variation\"] > 50) & (adata.var[\"mean\"] > 50),]"
   ]
  },
  {
   "cell_type": "code",
   "execution_count": 77,
   "id": "1bdc1743-46ac-41af-a6fb-697bb864ce3a",
   "metadata": {},
   "outputs": [],
   "source": [
    "ep.pp.neighbors(adata, n_pcs=10)"
   ]
  },
  {
   "cell_type": "code",
   "execution_count": 79,
   "id": "8e54d48a-1649-45be-851a-9b31ffa8bf35",
   "metadata": {},
   "outputs": [],
   "source": [
    "ep.tl.umap(adata)"
   ]
  },
  {
   "cell_type": "code",
   "execution_count": 81,
   "id": "0052966f-b14f-4572-9586-404bf5afad80",
   "metadata": {},
   "outputs": [
    {
     "data": {
      "image/png": "[encoded data removed]",
      "text/plain": [
       "<Figure size 1440x400 with 2 Axes>"
      ]
     },
     "metadata": {
      "image/png": {
       "height": 360,
       "width": 1190
      }
     },
     "output_type": "display_data"
    }
   ],
   "source": [
    "ep.settings.set_figure_params(figsize=(6, 5))\n",
    "ep.pl.umap(\n",
    "    adata,\n",
    "    color=[\n",
    "        \"pT_status\",\n",
    "        \"pN_status\",\n",
    "    ],\n",
    "    wspace=0.5,\n",
    "    size=20,\n",
    "    title=[\"pT_status\", \"pN_status\"],\n",
    ")"
   ]
  },
  {
   "cell_type": "code",
   "execution_count": null,
   "id": "251e2bfe-a527-4774-8337-d6b92e328bf3",
   "metadata": {},
   "outputs": [],
   "source": []
  }
 ],
 "metadata": {
  "kernelspec": {
   "display_name": "Python (ehrapy_env)",
   "language": "python",
   "name": "ehrapy_env"
  },
  "language_info": {
   "codemirror_mode": {
    "name": "ipython",
    "version": 3
   },
   "file_extension": ".py",
   "mimetype": "text/x-python",
   "name": "python",
   "nbconvert_exporter": "python",
   "pygments_lexer": "ipython3",
   "version": "3.12.3"
  }
 },
 "nbformat": 4,
 "nbformat_minor": 5
}
