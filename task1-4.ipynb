{
 "cells": [
  {
   "cell_type": "code",
   "execution_count": 122,
   "id": "178f72a1-36c0-4f4b-b1b8-74aea4745d54",
   "metadata": {},
   "outputs": [],
   "source": [
    "import ehrapy as ep\n",
    "import pandas as pd\n",
    "import anndata as ad"
   ]
  },
  {
   "cell_type": "code",
   "execution_count": 123,
   "id": "4b13f8a1-4967-4d78-adfe-3be2bcd1992e",
   "metadata": {},
   "outputs": [],
   "source": [
    "df = pd.read_csv(\"data-CAT.csv\")"
   ]
  },
  {
   "cell_type": "code",
   "execution_count": 124,
   "id": "f3ab310f-1fa4-4cdf-bb18-5182a00dd3e4",
   "metadata": {},
   "outputs": [],
   "source": [
    "ordinal_columns = [\n",
    "    \"pT_status\", \"pN_status\", \"G_status\", \"L_status\", \"V_status\", \"Pn_status\", \n",
    "    \"R_status\", \"M_status_postop\"\n",
    "]\n",
    "nominal_columns = [\n",
    "    \"sex\", \"Localisation\", \"OP_technique\", \"histology\", \"Clavien-Dindo\"\n",
    "]\n",
    "numerical_columns = [\n",
    "    \"Size_cm\", \"Weight_kg\", \"BMI\", \"Serumalbumin (g/dl)\", \"Serum-CRP (mg/l)\", \n",
    "    \"Leucocytes (n*1000/?l)\", \"Hb (g/dl)\", \"Creatinine (mg/dl)\", \"Bilirubin (mg/dl)\", \n",
    "    \"Gamma-GT\", \"AP (U/l)\", \"Amylase (U/l)\", \"Lipase (U/l)\", \"CEA (ng/ml)\", \n",
    "    \"CA 19-9 (U/ml)\"\n",
    "]"
   ]
  },
  {
   "cell_type": "raw",
   "id": "8c3fcdf4-cebf-4fc4-914d-83f351416b84",
   "metadata": {},
   "source": [
    "adata = ep.ad.df_to_anndata (\n",
    "    df, index_column = \"sample_ID\", columns_obs_only=[obs_columns] \n",
    "    )"
   ]
  },
  {
   "cell_type": "code",
   "execution_count": 133,
   "id": "68d9dcfe-c0fb-40fa-94eb-491008907083",
   "metadata": {},
   "outputs": [
    {
     "name": "stdout",
     "output_type": "stream",
     "text": [
      "nom\n"
     ]
    },
    {
     "ename": "AttributeError",
     "evalue": "'function' object has no attribute 'var'",
     "output_type": "error",
     "traceback": [
      "\u001b[0;31m---------------------------------------------------------------------------\u001b[0m",
      "\u001b[0;31mAttributeError\u001b[0m                            Traceback (most recent call last)",
      "Cell \u001b[0;32mIn[133], line 3\u001b[0m\n\u001b[1;32m      1\u001b[0m \u001b[38;5;28;01mif\u001b[39;00m nominal_columns: \n\u001b[1;32m      2\u001b[0m     \u001b[38;5;28mprint\u001b[39m(\u001b[38;5;124m\"\u001b[39m\u001b[38;5;124mnom\u001b[39m\u001b[38;5;124m\"\u001b[39m)\n\u001b[0;32m----> 3\u001b[0m     adata_encoded \u001b[38;5;241m=\u001b[39m \u001b[43mep\u001b[49m\u001b[38;5;241;43m.\u001b[39;49m\u001b[43mpp\u001b[49m\u001b[38;5;241;43m.\u001b[39;49m\u001b[43mencode\u001b[49m\u001b[43m \u001b[49m\u001b[43m(\u001b[49m\n\u001b[1;32m      4\u001b[0m \u001b[43m        \u001b[49m\u001b[43madata\u001b[49m\u001b[43m,\u001b[49m\u001b[43m \u001b[49m\u001b[43mautodetect\u001b[49m\u001b[43m \u001b[49m\u001b[38;5;241;43m=\u001b[39;49m\u001b[43m \u001b[49m\u001b[38;5;28;43;01mFalse\u001b[39;49;00m\u001b[43m,\u001b[49m\u001b[43m \u001b[49m\u001b[43mencodings\u001b[49m\u001b[43m \u001b[49m\u001b[38;5;241;43m=\u001b[39;49m\u001b[43m \u001b[49m\u001b[43m{\u001b[49m\u001b[38;5;124;43m\"\u001b[39;49m\u001b[38;5;124;43mone-hot\u001b[39;49m\u001b[38;5;124;43m\"\u001b[39;49m\u001b[43m:\u001b[49m\u001b[43m \u001b[49m\u001b[43mnominal_columns\u001b[49m\u001b[43m}\u001b[49m\n\u001b[1;32m      5\u001b[0m \u001b[43m    \u001b[49m\u001b[43m)\u001b[49m\n\u001b[1;32m      6\u001b[0m \u001b[38;5;28;01mif\u001b[39;00m ordinal_columns:\n\u001b[1;32m      7\u001b[0m     \u001b[38;5;28mprint\u001b[39m(\u001b[38;5;124m\"\u001b[39m\u001b[38;5;124mord\u001b[39m\u001b[38;5;124m\"\u001b[39m)\n",
      "File \u001b[0;32m~/ehrapy_env/lib/python3.12/site-packages/ehrapy/anndata/_feature_specifications.py:143\u001b[0m, in \u001b[0;36mcheck_feature_types.<locals>.wrapper\u001b[0;34m(adata, *args, **kwargs)\u001b[0m\n\u001b[1;32m    140\u001b[0m     adata \u001b[38;5;241m=\u001b[39m args[\u001b[38;5;241m0\u001b[39m]\n\u001b[1;32m    141\u001b[0m     args \u001b[38;5;241m=\u001b[39m args[\u001b[38;5;241m1\u001b[39m:]\n\u001b[0;32m--> 143\u001b[0m \u001b[38;5;28;01mif\u001b[39;00m FEATURE_TYPE_KEY \u001b[38;5;129;01mnot\u001b[39;00m \u001b[38;5;129;01min\u001b[39;00m \u001b[43madata\u001b[49m\u001b[38;5;241;43m.\u001b[39;49m\u001b[43mvar\u001b[49m\u001b[38;5;241m.\u001b[39mkeys():\n\u001b[1;32m    144\u001b[0m     infer_feature_types(adata, output\u001b[38;5;241m=\u001b[39m\u001b[38;5;28;01mNone\u001b[39;00m)\n\u001b[1;32m    145\u001b[0m     logger\u001b[38;5;241m.\u001b[39mwarning(\n\u001b[1;32m    146\u001b[0m         \u001b[38;5;124mf\u001b[39m\u001b[38;5;124m\"\u001b[39m\u001b[38;5;124mFeature types were inferred and stored in adata.var[\u001b[39m\u001b[38;5;132;01m{\u001b[39;00mFEATURE_TYPE_KEY\u001b[38;5;132;01m}\u001b[39;00m\u001b[38;5;124m]. Please verify using `ep.ad.feature_type_overview` and adjust if necessary using `ep.ad.replace_feature_types`.\u001b[39m\u001b[38;5;124m\"\u001b[39m\n\u001b[1;32m    147\u001b[0m     )\n",
      "\u001b[0;31mAttributeError\u001b[0m: 'function' object has no attribute 'var'"
     ]
    }
   ],
   "source": [
    "if nominal_columns: \n",
    "    print(\"nom\")\n",
    "    adata_encoded = ep.pp.encode (\n",
    "        adata, autodetect = False, encodings = {\"one-hot\": nominal_columns}\n",
    "    )\n",
    "if ordinal_columns:\n",
    "    print(\"ord\")\n",
    "    adata_encoded=ep.pp.encode ( \n",
    "        adata, autodetect = False, encodings = {\"categorical\": ordinal_columns}\n",
    "    )\n",
    "        \n",
    "if numerical_columns:\n",
    "    print(\"num\")\n",
    "    adata = ep.pp.select_numeric_columns (\n",
    "        adata, X_columns = numerical_columns\n",
    "    )"
   ]
  },
  {
   "cell_type": "code",
   "execution_count": 134,
   "id": "55bd07b4-8ad7-4f51-a86e-03287a2d4330",
   "metadata": {},
   "outputs": [
    {
     "name": "stdout",
     "output_type": "stream",
     "text": [
      "<function df_to_anndata at 0x7f334b81f240>\n"
     ]
    }
   ],
   "source": [
    "print (adata)"
   ]
  },
  {
   "cell_type": "code",
   "execution_count": null,
   "id": "caaa6aad-398f-40e3-9aa4-884c4cc20436",
   "metadata": {},
   "outputs": [],
   "source": []
  }
 ],
 "metadata": {
  "kernelspec": {
   "display_name": "Python (ehrapy_env)",
   "language": "python",
   "name": "ehrapy_env"
  },
  "language_info": {
   "codemirror_mode": {
    "name": "ipython",
    "version": 3
   },
   "file_extension": ".py",
   "mimetype": "text/x-python",
   "name": "python",
   "nbconvert_exporter": "python",
   "pygments_lexer": "ipython3",
   "version": "3.12.3"
  }
 },
 "nbformat": 4,
 "nbformat_minor": 5
}
