{
 "cells": [
  {
   "cell_type": "code",
   "execution_count": 29,
   "id": "178f72a1-36c0-4f4b-b1b8-74aea4745d54",
   "metadata": {},
   "outputs": [],
   "source": [
    "import ehrapy as ep\n",
    "import pandas as pd\n",
    "import numpy as np\n",
    "import anndata as ad"
   ]
  },
  {
   "cell_type": "code",
   "execution_count": 30,
   "id": "4b13f8a1-4967-4d78-adfe-3be2bcd1992e",
   "metadata": {},
   "outputs": [],
   "source": [
    "df = pd.read_csv(\"data-CAT.csv\")"
   ]
  },
  {
   "cell_type": "code",
   "execution_count": 39,
   "id": "f3ab310f-1fa4-4cdf-bb18-5182a00dd3e4",
   "metadata": {},
   "outputs": [],
   "source": [
    "ordinal_columns = [\n",
    "    \"pT_status\", \"pN_status\", \"G_status\", \"L_status\", \"V_status\", \"Pn_status\", \"R_status\", \"M_status_postop\"\n",
    "]\n",
    "nominal_columns = [\n",
    "    \"Status_OS\", \"PFS_sum\", \"Status_PFS\", \"sex\", \"Weight_loss_>10%_6months_before_OP\", \"DM\",\n",
    "    \"Long_term_steroid_medication\",\"C2_abusus\", \"CEA (ng/ml)\",\"Localisation\", \"Abdominal pain\", \n",
    "    \"icterus\", \"new_onset_DM\", \"Episode_acute_pancreatitis\", \"Episode_chronic_pancreatitis\", \n",
    "    \"OP_technique\", \"Vessel_resection\", \"Resection_liver_met_intraop\", \"histology\",\n",
    "    \"Clavien-Dindo\",  \"ICD-10 Diagnosis\",\n",
    "]   \n",
    "numerical_columns = [\n",
    "    \"ID_scRNAseq\", \"NIssc\", \"OS\", \"PFS\", \"Liver_met_sum\", \"Lung_met_sum\", \"other_met_sum\", \"local_rec_sum\", \n",
    "    \"age_at_diagnosis\", \"Size_cm\", \"Weight_kg\", \"BMI\", \"ASA\", \"Serumalbumin (g/dl)\", \"Serum-CRP (mg/l)\", \n",
    "    \"Leucocytes (n*1000/?l)\", \"Hb (g/dl)\", \"Creatinine (mg/dl)\", \"Smoker_py\", \"Bilirubin (mg/dl)\", \n",
    "    \"Gamma-GT\", \"AP (U/l)\", \"Amylase (U/l)\", \"Lipase (U/l)\",\"CA 19-9 (U/ml)\",  \n",
    "    \"Number_resected_lymphnodes\",\"Number_tumor_infiltrated_lymphnodes\", \"Ratio_tumorLN/resectedLN\", \"Tumorsize_mm\"   \n",
    "]"
   ]
  },
  {
   "cell_type": "code",
   "execution_count": 40,
   "id": "853da6f7-9bca-447f-8922-6d8a1ef515ce",
   "metadata": {},
   "outputs": [
    {
     "name": "stdout",
     "output_type": "stream",
     "text": [
      "Ordinal columns converted to categorical.\n"
     ]
    }
   ],
   "source": [
    "df[ordinal_columns] = df[ordinal_columns].astype(\"category\")\n",
    "print(\"Ordinal columns converted to categorical.\")"
   ]
  },
  {
   "cell_type": "code",
   "execution_count": 41,
   "id": "0fc9f462-e631-42cf-8b1e-f7cbf8994e8c",
   "metadata": {},
   "outputs": [
    {
     "name": "stdout",
     "output_type": "stream",
     "text": [
      "Nominal columns one-hot encoded.\n"
     ]
    }
   ],
   "source": [
    "df_nominal = pd.get_dummies(df[nominal_columns], drop_first=True)\n",
    "print(\"Nominal columns one-hot encoded.\") "
   ]
  },
  {
   "cell_type": "code",
   "execution_count": 42,
   "id": "337834c2-f94f-4585-8cfa-ee960397781d",
   "metadata": {},
   "outputs": [],
   "source": [
    "df_numerical = df[numerical_columns].values"
   ]
  },
  {
   "cell_type": "code",
   "execution_count": 43,
   "id": "9e3de001-1145-4150-8186-b3577a864403",
   "metadata": {},
   "outputs": [],
   "source": [
    "obs_data = pd.concat([df[ordinal_columns], df_nominal], axis=1)"
   ]
  },
  {
   "cell_type": "code",
   "execution_count": 44,
   "id": "134f7c7d-b501-4bcb-bea1-26bcea66b317",
   "metadata": {},
   "outputs": [],
   "source": [
    "X_data = df_numerical"
   ]
  },
  {
   "cell_type": "code",
   "execution_count": 45,
   "id": "2fbb3df6-d1f5-4ed6-8218-a43bb2fab42e",
   "metadata": {},
   "outputs": [
    {
     "name": "stdout",
     "output_type": "stream",
     "text": [
      "AnnData object created successfully.\n"
     ]
    }
   ],
   "source": [
    "adata = ad.AnnData(X=X_data, obs=obs_data)\n",
    "\n",
    "print(\"AnnData object created successfully.\")"
   ]
  },
  {
   "cell_type": "code",
   "execution_count": 48,
   "id": "afcf08de-2b89-4c77-9425-58af1d523a70",
   "metadata": {},
   "outputs": [
    {
     "name": "stdout",
     "output_type": "stream",
     "text": [
      "AnnData object saved as 'processed.h5ad'.\n"
     ]
    }
   ],
   "source": [
    "adata.write(\"processed.h5ad\")\n",
    "print(\"AnnData object saved as 'processed.h5ad'.\")"
   ]
  },
  {
   "cell_type": "code",
   "execution_count": 49,
   "id": "c5290870-a1da-4c34-9d2b-066ac6be1ec3",
   "metadata": {},
   "outputs": [
    {
     "name": "stdout",
     "output_type": "stream",
     "text": [
      "AnnData object loaded.\n"
     ]
    }
   ],
   "source": [
    "adata_loaded = ad.read(\"processed.h5ad\")\n",
    "print(\"AnnData object loaded.\")"
   ]
  },
  {
   "cell_type": "code",
   "execution_count": 50,
   "id": "906305a4-b364-4d21-a913-27820c6a7819",
   "metadata": {},
   "outputs": [
    {
     "name": "stdout",
     "output_type": "stream",
     "text": [
      "AnnData object with n_obs × n_vars = 23 × 29\n",
      "    obs: 'pT_status', 'pN_status', 'G_status', 'L_status', 'V_status', 'Pn_status', 'R_status', 'M_status_postop', 'Status_OS_dead', 'PFS_sum_03.07.2023', 'PFS_sum_12.02.2018', 'PFS_sum_13.06.2022', 'PFS_sum_18.10.2022', 'PFS_sum_21.05.2021', 'PFS_sum_24.05.2021', 'PFS_sum_24.05.2023', 'PFS_sum_28.04.2023', 'PFS_sum_29.08.2023', 'PFS_sum_30.07.2018', 'PFS_sum_Data still not available (OP< 6 months)', 'PFS_sum_Periop. Tod', 'Status_PFS_recurrence', 'sex_male', 'Weight_loss_>10%_6months_before_OP_Yes', 'DM_Yes', 'DM_yes', 'Long_term_steroid_medication_Yes', 'CEA (ng/ml)_1.95', 'CEA (ng/ml)_10.53', 'CEA (ng/ml)_2.2', 'CEA (ng/ml)_2.8', 'CEA (ng/ml)_5', 'CEA (ng/ml)_6.45', 'CEA (ng/ml)_8.27', 'CEA (ng/ml)_<1,80', 'Localisation_Cauda', 'Localisation_Corpus', 'Abdominal pain_No', 'icterus_No', 'new_onset_DM_No', 'OP_technique_Traverso-Longmire OP', 'OP_technique_total pancreatectomy', 'Resection_liver_met_intraop_No', 'Clavien-Dindo_grade 1', 'Clavien-Dindo_grade 2', 'Clavien-Dindo_grade 3a', 'Clavien-Dindo_grade 5 (Tod)'\n"
     ]
    }
   ],
   "source": [
    "print(adata_loaded)"
   ]
  },
  {
   "cell_type": "code",
   "execution_count": null,
   "id": "b65ed179-736b-4c00-a6cb-eb901852a808",
   "metadata": {},
   "outputs": [],
   "source": []
  }
 ],
 "metadata": {
  "kernelspec": {
   "display_name": "Python (ehrapy_env)",
   "language": "python",
   "name": "ehrapy_env"
  },
  "language_info": {
   "codemirror_mode": {
    "name": "ipython",
    "version": 3
   },
   "file_extension": ".py",
   "mimetype": "text/x-python",
   "name": "python",
   "nbconvert_exporter": "python",
   "pygments_lexer": "ipython3",
   "version": "3.12.3"
  }
 },
 "nbformat": 4,
 "nbformat_minor": 5
}
